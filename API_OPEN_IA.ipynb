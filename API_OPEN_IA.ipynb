{
 "cells": [
  {
   "cell_type": "markdown",
   "metadata": {},
   "source": [
    "# API OPEN IA"
   ]
  },
  {
   "cell_type": "markdown",
   "metadata": {},
   "source": [
    "### Parâmetros Principais\n",
    "\n",
    "- **model**: O modelo a ser utilizado, por exemplo, gpt-4, gpt-3.5-turbo, davinci, etc.\n",
    "- **messages**: Uma lista de mensagens para a API de completions de chat, onde cada mensagem tem um `role` (system, user, ou assistant) e `content` (o texto da mensagem).\n",
    "- **max_tokens**: O número máximo de tokens a serem gerados na resposta.\n",
    "- **temperature**: Controla a aleatoriedade da resposta (valores entre 0 e 1).\n",
    "- **top_p**: Usa amostragem de núcleo para limitar a resposta a um percentual de probabilidade cumulativa (valores entre 0 e 1).\n",
    "- **frequency_penalty**: Penaliza novos tokens com base na frequência com que aparecem no texto até o momento (valores entre -2.0 e 2.0).\n",
    "- **presence_penalty**: Penaliza novos tokens com base na presença no texto até o momento (valores entre -2.0 e 2.0).\n",
    "- **stop**: Sequências de caracteres onde a geração deve parar.\n",
    "- **n**: Número de respostas a serem geradas.\n",
    "- **logprobs**: Inclui logprobs para os primeiros tokens gerados.\n",
    "- **user**: ID do usuário para controle e rastreamento.\n",
    "\n",
    "### Parâmetros Adicionais\n",
    "\n",
    "- **best_of**: Gera mais do que o número especificado em `n` respostas no servidor e retorna as melhores (apenas disponíveis em certos endpoints).\n",
    "- **logit_bias**: Um mapa de tokens (ou seus IDs) para um valor de viés logit que ajusta a probabilidade desses tokens serem gerados.\n",
    "- **suffix**: Um texto que deve ser adicionado após a completude do prompt principal.\n",
    "- **stream**: Se verdadeiro, as informações de resposta serão enviadas como um stream em vez de uma única resposta.\n",
    "- **echo**: Se verdadeiro, o prompt será incluído na resposta.\n",
    "- **prompt**: Texto de entrada para o qual o modelo deve gerar uma continuação (usado em modelos de completions normais, não de chat).\n",
    "- **temperature_decay**: Controla a taxa de decaimento da temperatura ao longo das gerações (menos comum).\n",
    "- **logprobs_tokens**: Retorna os tokens e suas logprobs.\n"
   ]
  },
  {
   "cell_type": "code",
   "execution_count": 1,
   "metadata": {},
   "outputs": [],
   "source": [
    "from openai import OpenAI\n",
    "\n",
    "client = OpenAI()"
   ]
  },
  {
   "cell_type": "code",
   "execution_count": 15,
   "metadata": {},
   "outputs": [
    {
     "name": "stdout",
     "output_type": "stream",
     "text": [
      "Claro! Aqui vai uma sugestão de como iniciar uma conversa no metrô:\n",
      "\n",
      "\"Oi! Você costuma pegar esse metrô com frequência? Eu sempre vejo pessoas lendo ou ouvindo música, mas às vezes é bom trocar uma ideia. O que você acha?\"\n",
      "\n",
      "Lembre-se de ser respeitoso e perceber se a outra pessoa está aberta a conversar!\n"
     ]
    }
   ],
   "source": [
    "from openai import OpenAI\n",
    "client = OpenAI()\n",
    "\n",
    "completion = client.chat.completions.create(\n",
    "  model=\"gpt-4o-mini\",  # Modelo a ser usado\n",
    "  messages=[\n",
    "    {\"role\": \"system\", \"content\": \"Seja educado\"},\n",
    "    {\"role\": \"user\", \"content\": \"Comece uma conversa no metrô\"}\n",
    "  ],            \n",
    "  max_tokens=150,             # Número máximo de tokens na resposta\n",
    "  temperature=0,            # Controla a aleatoriedade da resposta    \n",
    ")\n",
    "\n",
    "print(completion.choices[0].message.content)"
   ]
  }
 ],
 "metadata": {
  "kernelspec": {
   "display_name": "base",
   "language": "python",
   "name": "python3"
  },
  "language_info": {
   "codemirror_mode": {
    "name": "ipython",
    "version": 3
   },
   "file_extension": ".py",
   "mimetype": "text/x-python",
   "name": "python",
   "nbconvert_exporter": "python",
   "pygments_lexer": "ipython3",
   "version": "3.12.4"
  }
 },
 "nbformat": 4,
 "nbformat_minor": 2
}
