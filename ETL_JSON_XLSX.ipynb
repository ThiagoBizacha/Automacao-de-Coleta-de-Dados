{
 "cells": [
  {
   "cell_type": "markdown",
   "metadata": {},
   "source": [
    "### Transformar em JSON em XLSX"
   ]
  },
  {
   "cell_type": "code",
   "execution_count": null,
   "metadata": {},
   "outputs": [],
   "source": [
    "import pandas as pd\n",
    "import json\n",
    "import os\n",
    "\n",
    "# Defina o caminho do arquivo JSON\n",
    "file_path = 'C:\\\\Users\\\\ThiagoBizacha\\\\Desktop\\\\Projeto_Automacao_Coleta_Dados\\\\rapid_top_amazon_eletronics_23_07_24.json'\n",
    "\n",
    "# Verifique se o arquivo existe\n",
    "if not os.path.exists(file_path):\n",
    "    print(f'O arquivo JSON não existe no caminho especificado: {file_path}')\n",
    "else:\n",
    "    # Verifique se o arquivo não está vazio\n",
    "    if os.path.getsize(file_path) == 0:\n",
    "        print(f'O arquivo JSON está vazio: {file_path}')\n",
    "    else:\n",
    "        # Carregue o arquivo JSON\n",
    "        with open(file_path, 'r', encoding='utf-8') as file:\n",
    "            try:\n",
    "                data = json.load(file)\n",
    "                \n",
    "                # Verifique se os dados 'best_sellers' estão presentes\n",
    "                if 'data' in data and 'best_sellers' in data['data']:\n",
    "                    best_sellers = data['data']['best_sellers']\n",
    "                    \n",
    "                    # Converta os dados JSON para um DataFrame do pandas\n",
    "                    df = pd.json_normalize(best_sellers)\n",
    "                    \n",
    "                    # Salve o DataFrame em um arquivo Excel\n",
    "                    excel_file_path = 'C:\\\\Users\\\\ThiagoBizacha\\\\Desktop\\\\Projeto_Automacao_Coleta_Dados\\\\structured_data.xlsx'\n",
    "                    df.to_excel(excel_file_path, index=False)\n",
    "                    \n",
    "                    print(f'Tabela estruturada salva em: {excel_file_path}')\n",
    "                else:\n",
    "                    print('Os dados \"best_sellers\" não estão presentes no arquivo JSON.')\n",
    "            except json.JSONDecodeError as e:\n",
    "                print(f'Erro ao decodificar JSON: {e}')\n"
   ]
  }
 ],
 "metadata": {
  "kernelspec": {
   "display_name": "base",
   "language": "python",
   "name": "python3"
  },
  "language_info": {
   "name": "python",
   "version": "3.12.4"
  }
 },
 "nbformat": 4,
 "nbformat_minor": 2
}
