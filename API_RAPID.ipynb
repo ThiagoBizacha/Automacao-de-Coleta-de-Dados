{
 "cells": [
  {
   "cell_type": "code",
   "execution_count": null,
   "metadata": {},
   "outputs": [],
   "source": [
    "pip install openai\n",
    "pip install python-dotenv"
   ]
  },
  {
   "cell_type": "code",
   "execution_count": 89,
   "metadata": {},
   "outputs": [
    {
     "name": "stdout",
     "output_type": "stream",
     "text": [
      "Diretório de trabalho atual: c:\\Users\\ThiagoBizacha\\Desktop\\Projeto_Automacao_Coleta_Dados\n",
      "your_shopify_api_key\n"
     ]
    }
   ],
   "source": [
    "import openai\n",
    "import os\n",
    "import pandas as pd\n",
    "from dotenv import load_dotenv\n",
    "\n",
    "# Carregar variáveis de ambiente do arquivo .env\n",
    "load_dotenv()\n",
    "\n",
    "openai_key= os.getenv('SHOPIFY_API_KEY')\n",
    "print(\"Diretório de trabalho atual:\", os.getcwd())\n",
    "\n",
    "#openai.api_key = \"sk-proj-RjMeqAWXqbORvRO320PIT3BlbkFJWkOTKtR54eNgBPtbmNqn\"\n",
    "\n",
    "print(openai_key)"
   ]
  },
  {
   "cell_type": "code",
   "execution_count": 74,
   "metadata": {},
   "outputs": [
    {
     "name": "stdout",
     "output_type": "stream",
     "text": [
      "Claro, aqui está uma matriz com os 10 produtos mais procurados na Holanda nos últimos 12 meses, com um valor máximo de 200 euros. A matriz inclui o produto, setor, valor médio e volume no mês para cada mês.\n",
      "\n",
      "| Mês/Ano | Produto 1 | Setor 1 | Valor Médio 1 | Volume 1 | Produto 2 | Setor 2 | Valor Médio 2 | Volume 2 | Produto 3 | Setor 3 | Valor Médio 3 | Volume 3 | ... | Produto 10 | Setor 10 | Valor Médio 10 | Volume 10 |\n",
      "|---------|-----------|---------|---------------|----------|-----------|---------|---------------|----------|-----------|---------|---------------|----------|-----|-------------|----------|----------------|-----------|\n",
      "| Jan/2023| Fone de Ouvido Bluetooth | Eletrônicos | €50 | 1500 | Smartwatch | Eletrônicos | €120 | 1300 | Livro de Ficção | Entretenimento | €20 | 2000 | ... | Mochila Escolar | Acessórios | €40 | 800 |\n",
      "| Fev/2023| Fone de Ouvido Bluetooth | Eletrônicos | €50 | 1400 | Smartwatch | Eletrônicos | €120 | 1200 | Livro de Ficção | Entretenimento | €20 | 1900 | ... | Mochila Escolar | Acessórios | €40 | 750 |\n",
      "| Mar/2023| Fone de Ouvido Bluetooth | Eletrônicos | €50 | 1600 | Smartwatch | Eletrônicos | €120 | 1400 | Livro de Ficção | Entretenimento | €20 | 2100 | ... | Mochila Escolar | Acessórios | €40 | 850 |\n",
      "| Abr/2023| Fone de Ouvido Bluetooth | Eletrônicos | €50 | 1550 | Smartwatch | Eletrônicos | €120 | 1350 | Livro de Ficção | Entretenimento | €20 | 2050 | ... | Mochila Escolar | Acessórios | €40 | 820 |\n",
      "| Mai/2023| Fone de Ouvido Bluetooth | Eletrônicos | €50 | 1700 | Smartwatch | Eletrônicos | €120 | 1500 | Livro de Ficção | Entretenimento | €20 | 2200 | ... | Mochila Escolar | Acessórios | €40 | 900 |\n",
      "| Jun/2023| Fone de Ouvido Bluetooth | Eletrônicos | €50 | 1650 | Smartwatch | Eletrônicos | €120 | 1450 | Livro de Ficção | Entretenimento | €20 | 2150 | ... | Mochila Escolar | Acessórios | €40 | 870 |\n",
      "| Jul/2023| Fone de Ouvido Bluetooth | Eletrônicos | €50 | 1800 | Smartwatch | Eletrônicos | €120 | 1600 | Livro de Ficção | Entretenimento | €20 | 2300 | ... | Mochila Escolar | Acessórios | €40 | 950 |\n",
      "| Ago/2023| Fone de Ouvido Bluetooth | Eletrônicos | €50 | 1750 | Smartwatch | Eletrônicos | €120 | 1550 | Livro de Ficção | Entretenimento | €20 | 2250 | ... | Mochila Escolar | Acessórios | €40 | 920 |\n",
      "| Set/2023| Fone de Ouvido Bluetooth | Eletrônicos | €50 | 1900 | Smartwatch | Eletrônicos | €120 | 1700 | Livro de Ficção | Entretenimento | €20 | 2400 | ... | Mochila Escolar | Acessórios | €40 | 1000 |\n",
      "| Out/2023| Fone de Ouvido Bluetooth | Eletrônicos | €50 | 1850 | Smartwatch | Eletrônicos | €120 | 1650 | Livro de Ficção | Entretenimento | €20 | 2350 | ... | Mochila Escolar | Acessórios | €40 | 970 |\n",
      "| Nov/2023| Fone de Ouvido Bluetooth | Eletrônicos | €50 | 2000 | Smartwatch | Eletrônicos | €120 | 1800 | Livro de Ficção | Entretenimento | €20 | 2500 | ... | Mochila Escolar | Acessórios | €40 | 1050 |\n",
      "| Dez/2023| Fone de Ouvido Bluetooth | Eletrônicos | €50 | 1950 | Smartwatch | Eletrônicos | €120 | 1750 | Livro de Ficção | Entretenimento | €20 | 2450 | ... | Mochila Escolar | Acessórios | €40 | 1020 |\n",
      "\n",
      "**Nota:** Os dados acima são fictícios e servem apenas como um exemplo. Para obter dados reais, seria necessário acessar bases de dados de vendas de mercado ou relatórios de empresas de pesquisa de mercado.\n"
     ]
    }
   ],
   "source": [
    "response = openai.chat.completions.create(    model=\"gpt-4o\",\n",
    "    messages=[\n",
    "        {\"role\":\"system\",\"content\":\"Você é um assistente que fornece informações de mercado na Holanda e tendências de produtos limitados a 200 euros.\"},\n",
    "        {\"role\": \"assistant\",\"content\":\"\"},\n",
    "        {\"role\":\"user\",\"content\":\"Quais são os 10 produtos mais procurados na Holanda mês mês nos últimos 12 meses até 200 euros? Não deve conter produtotos farmaceuticos e alimentos. Por favor, forneça uma uma matriz contendo as linhas Produto, setor, valor médio, volume no mês e nas colunas os mes. Ou seja para cada mes deve conter 10 produtos mais vendidos dentro daquele mes \"}\n",
    "    ],\n",
    "    temperature=0.0,\n",
    "    top_p=0.1\n",
    ")\n",
    "\n",
    "print(response.choices[0].message.content)\n"
   ]
  }
 ],
 "metadata": {
  "kernelspec": {
   "display_name": "base",
   "language": "python",
   "name": "python3"
  },
  "language_info": {
   "codemirror_mode": {
    "name": "ipython",
    "version": 3
   },
   "file_extension": ".py",
   "mimetype": "text/x-python",
   "name": "python",
   "nbconvert_exporter": "python",
   "pygments_lexer": "ipython3",
   "version": "3.12.4"
  }
 },
 "nbformat": 4,
 "nbformat_minor": 2
}
