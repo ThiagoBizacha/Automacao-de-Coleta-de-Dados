{
 "cells": [
  {
   "cell_type": "code",
   "execution_count": 4,
   "metadata": {},
   "outputs": [
    {
     "name": "stderr",
     "output_type": "stream",
     "text": [
      "C:\\Users\\ThiagoBizacha\\AppData\\Local\\Temp\\ipykernel_23428\\3767404087.py:16: UserWarning:\n",
      "\n",
      "pandas only supports SQLAlchemy connectable (engine/connection) or database string URI or sqlite3 DBAPI2 connection. Other DBAPI2 objects are not tested. Please consider using SQLAlchemy.\n",
      "\n"
     ]
    }
   ],
   "source": [
    "# data_loader.py\n",
    "import psycopg2\n",
    "import pandas as pd\n",
    "\n",
    "def get_data():\n",
    "    \"\"\"\n",
    "    Conecta ao banco de dados PostgreSQL e retorna o DataFrame com os dados da Amazon.\n",
    "    \"\"\"\n",
    "    conn = psycopg2.connect(\n",
    "        host=\"db-thiago-390438668051.cniie2kemucx.us-east-2.rds.amazonaws.com\",\n",
    "        database=\"postgres\",\n",
    "        user=\"postgres\",\n",
    "        password=\"M3GFMwk3BteZfZyJVz4Y\"\n",
    "    )\n",
    "    query = \"SELECT * FROM public.amazon_nl_final;\"\n",
    "    df = pd.read_sql(query, conn)\n",
    "    conn.close()\n",
    "\n",
    "    # Garantir que a coluna 'date' esteja no formato datetime\n",
    "    df['date'] = pd.to_datetime(df['date'], errors='coerce')\n",
    "\n",
    "        # Filtrar as categorias indesejadas\n",
    "    #df = df[~df['category'].isin(['Cadeaubonnen', 'Kindle Store'])]\n",
    "\n",
    "    return df\n",
    "\n",
    "df = get_data()"
   ]
  },
  {
   "cell_type": "code",
   "execution_count": 5,
   "metadata": {},
   "outputs": [
    {
     "data": {
      "text/plain": [
       "(34246, 24)"
      ]
     },
     "execution_count": 5,
     "metadata": {},
     "output_type": "execute_result"
    }
   ],
   "source": [
    "df.shape"
   ]
  },
  {
   "cell_type": "code",
   "execution_count": 19,
   "metadata": {},
   "outputs": [
    {
     "name": "stdout",
     "output_type": "stream",
     "text": [
      "Tabela interativa salva como 'tabela_interativa.html'. Abra o arquivo em seu navegador.\n"
     ]
    }
   ],
   "source": [
    "import plotly.graph_objs as go\n",
    "import pandas as pd\n",
    "\n",
    "# Calcular as estatísticas\n",
    "df_stats = df.groupby('asin').agg(\n",
    "    media_value=('value', 'mean'),\n",
    "    mediana_value=('value', 'median'),\n",
    "    desvio_padrao=('value', 'std'),\n",
    "    valor_min=('value', 'min'),\n",
    "    valor_max=('value', 'max')\n",
    ").reset_index()\n",
    "\n",
    "# Criar tabela interativa\n",
    "table = go.Figure(data=[go.Table(\n",
    "    header=dict(values=['ASIN', 'MÉDIA VALUE', 'MEDIANA', 'DESVIO PADRÃO', 'MINIMO', 'MAXIMO'],\n",
    "                fill_color='paleturquoise',\n",
    "                align='left'),\n",
    "    cells=dict(values=[df_stats['asin'], df_stats['media_value'], df_stats['mediana_value'], \n",
    "                       df_stats['desvio_padrao'], df_stats['valor_min'], df_stats['valor_max']],\n",
    "               fill_color='lavender',\n",
    "               align='left')\n",
    ")])\n",
    "\n",
    "# Salvar a tabela como arquivo HTML\n",
    "table.write_html('tabela_interativa.html')\n",
    "\n",
    "print(\"Tabela interativa salva como 'tabela_interativa.html'. Abra o arquivo em seu navegador.\")\n"
   ]
  }
 ],
 "metadata": {
  "kernelspec": {
   "display_name": "base",
   "language": "python",
   "name": "python3"
  },
  "language_info": {
   "codemirror_mode": {
    "name": "ipython",
    "version": 3
   },
   "file_extension": ".py",
   "mimetype": "text/x-python",
   "name": "python",
   "nbconvert_exporter": "python",
   "pygments_lexer": "ipython3",
   "version": "3.12.4"
  }
 },
 "nbformat": 4,
 "nbformat_minor": 2
}
