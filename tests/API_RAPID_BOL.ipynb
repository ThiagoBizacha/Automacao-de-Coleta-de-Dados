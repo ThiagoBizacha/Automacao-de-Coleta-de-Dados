{
 "cells": [
  {
   "cell_type": "markdown",
   "metadata": {},
   "source": [
    "# API RAPID .BOL\n"
   ]
  },
  {
   "cell_type": "markdown",
   "metadata": {},
   "source": [
    "### Endpoints Products .BOL"
   ]
  },
  {
   "cell_type": "code",
   "execution_count": 1,
   "metadata": {},
   "outputs": [
    {
     "name": "stdout",
     "output_type": "stream",
     "text": [
      "{'status': 'success', 'req_id': '655d7a36-64c8-44a6-b3aa-b555e24351de', 'message': 'Task successful', 'data': [{'id': '9300000152317625', 'title': 'CHiQ L40H7G - Smart TV 40 Inch - Google TV - Full HD 1080P - Randloos Ontwerp', 'url': 'https://www.bol.com/nl/nl/p/chiq-l40h7g-40-inch-tv-smart-tv-full-hd-1080p-randloos-ontwerp-google-tv-google-assistent-stemgestuurde-afstandsbediening-ingebouwde-chromecast-hdr10-hlg-dolby-audio-filmmodus-triple-tuner-wifi-bluetooth-hdmi-arc-usb2-0-c/9300000152317625/', 'image': 'https://media.s-bol.com/RJYNMZJQ723w/4xQ8Mgg/168x107.jpg', 'description': 'CHiQ Aanbevolen Voor Jou ：Google TV Smart TV 40 Inch Full HD, Google TV Randloos Ontwerp HDR10&HLG. CHiQ…', 'specifications': ['2023', '40 inch', '50 Hz', 'LED', 'Backlight: Direct-led', 'Smart TV', 'Google TV'], 'rating_text': 'klantbeoordeling: 4,7 van de 5 sterren', 'rating_count': 292, 'price': 219.99}, {'id': '9300000138973518', 'title': 'CHiQ U43H7C - Smart TV 43 Inch - 4 K UHD TV - Frameless design - Chromecast - Google Assistant - Android 11', 'url': 'https://www.bol.com/nl/nl/p/chiq-u43h7c-43-inch-uhd-tv-frameless-design-chromecast-google-assistant-android-11/9300000138973518/', 'image': 'https://media.s-bol.com/g98p3Gmzw61j/kRoYW5v/168x108.jpg', 'description': 'CHiQ Aanbevolen Voor Jou ：Full-screen 4K UHD Android-tv U43H7C (43 inch), Groot kijkvlak, haarscherp…', 'specifications': ['2022', '43 inch', '50 Hz', 'LED', 'Backlight: Direct-led', 'Smart TV', 'Android TV'], 'rating_text': 'klantbeoordeling: 4,4 van de 5 sterren', 'rating_count': 200, 'price': 269.99}, {'id': '9300000152316416', 'title': 'CHiQ L32H7G - Smart TV 32 Inch - HD - Google TV - Randloos Ontwerp - Google Assistent', 'url': 'https://www.bol.com/nl/nl/p/chiq-l32h7g-32-inch-tv-smart-tv-hd-led-tv-randloos-ontwerp-hdr-google-tv-google-assistent-spraakbesturing-afstandsbediening-google-play-ingebouwde-chromecast-dolby-audio-film-modus-triple-tuner-wifi-bluetooth-hdmi-arc-usb2/9300000152316416/', 'image': 'https://media.s-bol.com/mjR5QEoylqkO/QWn19EL/168x118.jpg', 'description': 'CHiQ Aanbevolen Voor Jou ：Google TV Smart TV 32 Inch HD, Randloos Ontwerp. CHiQ smart TV heeft een hoge…', 'specifications': ['2023', '32 inch', '50 Hz', 'LED', 'Backlight: Direct-led', 'Smart TV', 'Google TV'], 'rating_text': 'klantbeoordeling: 4,7 van de 5 sterren', 'rating_count': 292, 'price': 175.99}, {'id': '9300000147400407', 'title': 'Samsung UE50CU7172 - 50 inch - 4K LED - 2023 - Buitenlands model', 'url': 'https://www.bol.com/nl/nl/p/samsung-ue50cu7172-50-inch-4k-led-smart-tv-2023-europees-model/9300000147400407/', 'image': 'https://media.s-bol.com/Y91JK50Bg7GW/o26Ngx3/168x107.jpg', 'description': 'De Samsung UE50CU7172 - 4K LED TV heeft een prachtig UHD Crystal Display scherm waardoor je kan genieten…', 'specifications': ['2023', '50 inch', '50 Hz', 'LED', 'Backlight: Edge-lit', 'Smart TV', 'Tizen'], 'rating_text': 'klantbeoordeling: 4,1 van de 5 sterren', 'rating_count': 112, 'price': 375.0}, {'id': '9300000146498192', 'title': 'Samsung UE43CU7172 - 43 inch - 4K LED - 2023 - Buitenlands model', 'url': 'https://www.bol.com/nl/nl/p/samsung-ue43cu7172-43-inch-4k-led-2023-europees-model/9300000146498192/', 'image': 'https://media.s-bol.com/m6rQ0JnR8nkn/j3y28Y/168x107.jpg', 'description': 'De Samsung UE43CU7172 - 4K LED TV heeft een prachtig UHD Crystal Display scherm waardoor je kan genieten…', 'specifications': ['2023', '43 inch', '50 Hz', 'LED', 'Backlight: Edge-lit', 'Smart TV', 'Tizen'], 'rating_text': 'klantbeoordeling: 4,1 van de 5 sterren', 'rating_count': 112, 'price': 305.0}, {'id': '9300000165499792', 'title': 'CHiQ U55QG7L - Smart TV 55 Inch - 4K QLED Android TV - Ultra-HD - Dolby Vision HDR - 2023 model', 'url': 'https://www.bol.com/nl/nl/p/chiq-tv-u55qg7l/9300000165499792/', 'image': 'https://media.s-bol.com/RJRQvmEwKyrq/AD1QL9j/168x108.jpg', 'description': 'CHiQ Aanbevolen Voor Jou ：QLED Smart TV 55 Inch 4K UHD. Ervaar de ongeëvenaarde magie van QLED met de…', 'specifications': ['2023', '55 inch', '50 Hz', 'QLED', 'Backlight: Direct-led', 'Smart TV', 'Android TV'], 'rating_text': 'klantbeoordeling: 4,5 van de 5 sterren', 'rating_count': 14, 'price': 399.0}, {'id': '9300000074859721', 'title': 'LG 32LQ63006LA - 32 inch - Full HD LED - 2022', 'url': 'https://www.bol.com/nl/nl/p/lg-32lq63006la-32-inch-full-hd-led-2022/9300000074859721/', 'image': 'https://media.s-bol.com/x8yYkMN4qAzz/oVwM53N/168x108.jpg', 'description': 'De LG 32LQ63006LA is een Full HD televisie met een beeldschermdiagonaal van 32 inch (81 cm). De televisie…', 'specifications': ['2022', '32 inch', '50 Hz', 'LED', 'Backlight: Direct-led', 'Smart TV', 'webOS'], 'rating_text': 'klantbeoordeling: 4,6 van de 5 sterren', 'rating_count': 84, 'price': 249.0}, {'id': '9300000146882011', 'title': 'Samsung QE55Q60C - 55 inch - 4K QLED - 2023', 'url': 'https://www.bol.com/nl/nl/p/samsung-qe55q60c-55-inch-4k-qled-2023/9300000146882011/', 'image': 'https://media.s-bol.com/B2G5gNmvJZpn/vPzPvr/168x103.jpg', 'description': 'De Samsung QE55Q60C is een 4K QLED televisie. Het gebruik van dual LED zorgt voor intenser contrast door…', 'specifications': ['2023', '55 inch', '50 Hz', 'QLED', 'Backlight: Edge-lit', 'Smart TV', 'Tizen'], 'rating_text': 'klantbeoordeling: 4,7 van de 5 sterren', 'rating_count': 37, 'price': 589.0}, {'id': '9300000150081982', 'title': 'CHiQ L32H8CG - Smart TV 32 Inch - Full HD - Google TV - Metal Frameless - HDR10&HLG - Google Play store', 'url': 'https://www.bol.com/nl/nl/p/chiq-l32h8cg-32-inch-tv-smart-tv-fhd-metal-frameless-hdr10-hlg-triple-tuner-google-play-1-5g-ram-8g-rom-chromecast-2-4-5g-wifi/9300000150081982/', 'image': 'https://media.s-bol.com/qnR1QyLWAAmk/XDL68Em/168x110.jpg', 'description': 'CHiQ Aanbevolen Voor Jou ：Google TV Smart TV 32 Inch Full HD, Google TV - Metal Frameless - HDR10&HLG.…', 'specifications': ['2023', '32 inch', '50 Hz', 'LED', 'Backlight: Direct-led', 'Smart TV', 'Google TV'], 'rating_text': 'klantbeoordeling: 4,7 van de 5 sterren', 'rating_count': 292, 'price': 189.99}, {'id': '9300000146779180', 'title': 'Samsung QE43Q60C - 43 inch - 4K QLED - 2023 - Buitenlands model', 'url': 'https://www.bol.com/nl/nl/p/samsung-qe43q60c-43-inch-4k-qled-2023-europees-model/9300000146779180/', 'image': 'https://media.s-bol.com/gVlxGgKxWPk9/xKyKql/168x102.jpg', 'description': 'De Samsung QE43Q60C is een 4K QLED televisie. Het gebruik van dual LED zorgt voor intenser contrast door…', 'specifications': ['2023', '43 inch', '50 Hz', 'QLED', 'Backlight: Edge-lit', 'Smart TV', 'Tizen'], 'rating_text': 'klantbeoordeling: 4,7 van de 5 sterren', 'rating_count': 37, 'price': 342.0}, {'id': '9300000147064906', 'title': 'Samsung UE55CU7172 - 55 inch - 4K LED - 2023 - Buitenlands model', 'url': 'https://www.bol.com/nl/nl/p/samsung-ue55cu7172-55-inch-4k-led-2023-europees-model/9300000147064906/', 'image': 'https://media.s-bol.com/KVJopZOEq2BM/31KoxLx/168x107.jpg', 'description': 'De Samsung UE55CU7172 - 4K LED TV heeft een prachtig UHD Crystal Display scherm waardoor je kan genieten…', 'specifications': ['2023', '55 inch', '50 Hz', 'LED', 'Backlight: Edge-lit', 'Smart TV', 'Tizen'], 'rating_text': 'klantbeoordeling: 4,1 van de 5 sterren', 'rating_count': 112, 'price': 439.0}, {'id': '9300000147298546', 'title': 'Samsung QE55Q70C - 55 inch - 4K QLED - 2023', 'url': 'https://www.bol.com/nl/nl/p/samsung-qe55q70c-55-inch-4k-qled-2023/9300000147298546/', 'image': 'https://media.s-bol.com/306x9KNM7vDM/jlzjo5/168x107.jpg', 'description': 'Met de Samsung 55 inch QLED Smart TV Q70C (2023) wordt het QLED-beeld nog beter. Deze tv is namelijk…', 'specifications': ['2023', '55 inch', '100 Hz', 'QLED', 'Backlight: Edge-lit', 'Smart TV', 'Tizen'], 'rating_text': 'klantbeoordeling: 4,5 van de 5 sterren', 'rating_count': 4, 'price': 775.0}, {'id': '9300000178840261', 'title': 'Samsung UE55CU7020 - 55 inch - 4K LED - 2024', 'url': 'https://www.bol.com/nl/nl/p/samsung-ue55cu7020-55-inch-4k-led-2024/9300000178840261/', 'image': 'https://media.s-bol.com/7BgDkqGZ7Azj/lYMZ45j/168x112.jpg', 'description': 'De Samsung UE55CU7020 - 4K LED TV heeft een prachtig UHD Crystal Display scherm waardoor je kan genieten…', 'specifications': ['2024', '55 inch', '50 Hz', 'LED', 'Backlight: Edge-lit', 'Smart TV', 'Tizen'], 'rating_text': 'klantbeoordeling: 4,1 van de 5 sterren', 'rating_count': 112, 'price': 479.0}, {'id': '9300000179139381', 'title': \"Medion E11916 (MD 20058) TV - 47 cm (19'') LCD TV - HD Triple Tuner - geïntegreerde mediaspeler - autoadapter - CI+\", 'url': 'https://www.bol.com/nl/nl/p/medion-e11916-tv-47-cm-lcd-tv-hd-triple-tuner-geintegreerde-mediaspeler-autoadapter-ci/9300000179139381/', 'image': 'https://media.s-bol.com/Bm5QpXYPo84Y/mZYDwkn/168x121.jpg', 'description': 'Twee televisietoestellen zijn beter dan één De LCD TV MEDION LIFE E11916 met LED-backlight-technologie…', 'specifications': ['2022', '19 inch', '50 Hz', 'LCD', 'Backlight: Edge-lit'], 'rating_text': None, 'rating_count': None, 'price': 99.95}, {'id': '9300000177927219', 'title': \"Medion Life P14093 (MD 30043) Android TV™ - 100,3 cm (40'') - Full HD-scherm - PVR-ready - Bluetooth - Netflix - Amazon Prime Video\", 'url': 'https://www.bol.com/nl/nl/p/medion-life-p14093-android-tv-100-3-cm-full-hd-scherm-pvr-ready-bluetooth-netflix-amazon-prime-video/9300000177927219/', 'image': 'https://media.s-bol.com/gEORRxQY8oVj/OYPLOng/168x107.jpg', 'description': 'TV-ervaringen die indruk maken Met deze Smart TV met Android-besturingssysteem en Full HD-resolutie geniet…', 'specifications': ['2022', '40 inch', '50 Hz', 'LCD', 'Backlight: Edge-lit', 'Smart TV', 'Android TV'], 'rating_text': 'klantbeoordeling: 5,0 van de 5 sterren', 'rating_count': 2, 'price': 219.95}, {'id': '9300000163469226', 'title': 'LG 65UR76006LL - 65 inch - 4K LED - 2023', 'url': 'https://www.bol.com/nl/nl/p/lg-65ur76006ll-165-1-cm-3840-x-2160-pixels-led-smart-tv-wifi-zwart/9300000163469226/', 'image': 'https://media.s-bol.com/mn1zEA3pzpmp/qgMOQD/168x102.jpg', 'description': 'Ontdek de LG 65UR76006LL, een krachtige toevoeging aan de wereld van entertainmenttechnologie. Met HDR10…', 'specifications': ['2023', '65 inch', '50 Hz', 'LED', 'Backlight: Direct-led', 'Smart TV', 'webOS'], 'rating_text': 'klantbeoordeling: 4,8 van de 5 sterren', 'rating_count': 6, 'price': 555.0}, {'id': '9300000173450947', 'title': 'TCL 55T8B - 55 inch - 4K QLED - 2024', 'url': 'https://www.bol.com/nl/nl/p/tcl-55t8b-55-inch-4k-qled-2024/9300000173450947/', 'image': 'https://media.s-bol.com/KyrlN8kVkyvY/0RYnopN/168x104.jpg', 'description': 'De TCL T8B is een geavanceerde TV met QLED PRO-technologie voor levendige kleuren, 4K HDR PRO voor superieure…', 'specifications': ['2024', '55 inch', '144 Hz', 'QLED', 'Backlight: Direct-led', 'Smart TV', 'Google TV'], 'rating_text': 'klantbeoordeling: 4,5 van de 5 sterren', 'rating_count': 13, 'price': 599.0}, {'id': '9300000146881967', 'title': 'Samsung QE50Q60C - 50 inch - 4K QLED - 2023', 'url': 'https://www.bol.com/nl/nl/p/samsung-qe50q60c-50-inch-4k-qled-2023/9300000146881967/', 'image': 'https://media.s-bol.com/9yv56G5RXkLY/oG0G0j/168x103.jpg', 'description': 'De Samsung QE50Q60C is een 4K QLED televisie. Het gebruik van dual LED zorgt voor intenser contrast door…', 'specifications': ['2023', '50 inch', '50 Hz', 'QLED', 'Backlight: Edge-lit', 'Smart TV', 'Tizen'], 'rating_text': 'klantbeoordeling: 4,7 van de 5 sterren', 'rating_count': 37, 'price': 529.0}, {'id': '9300000178840263', 'title': 'Samsung UE43CU7020 - 43 inch - 4K LED - 2024', 'url': 'https://www.bol.com/nl/nl/p/samsung-ue43cu7020-43-inch-4k-led-2024/9300000178840263/', 'image': 'https://media.s-bol.com/8DL6xBgRO3Mm/5y1WOJq/168x112.jpg', 'description': 'De Samsung UE43CU7020 - 4K LED TV heeft een prachtig UHD Crystal Display scherm waardoor je kan genieten…', 'specifications': ['2024', '43 inch', '50 Hz', 'LED', 'Backlight: Edge-lit', 'Smart TV', 'Tizen'], 'rating_text': 'klantbeoordeling: 4,1 van de 5 sterren', 'rating_count': 112, 'price': 379.0}, {'id': '9300000155009760', 'title': 'Salora FOD43FV - 43 Inch - Smart TV - Full HD - 2023 - VIDAA - Smart 43 inch tv', 'url': 'https://www.bol.com/nl/nl/p/salora-fod43fv-43-inch-smart-tv-full-hd-2023-vidaa-smart-43-inch-tv/9300000155009760/', 'image': 'https://media.s-bol.com/NynOrAR9o8q2/k9Bjxr/168x104.jpg', 'description': 'Met de Salora FOD43FV haal je de beste kijkervaring uit je lievelings Netflix series en je beste tv programma’s.…', 'specifications': ['2023', '43 inch', '50 Hz', 'LED', 'Backlight: Direct-led', 'Smart TV', 'VIDAA U'], 'rating_text': 'klantbeoordeling: 4,6 van de 5 sterren', 'rating_count': 152, 'price': 269.0}, {'id': '9300000178840262', 'title': 'Samsung UE50CU7020 - 50 inch - 4K LED - 2024', 'url': 'https://www.bol.com/nl/nl/p/samsung-ue50cu7020-50-inch-4k-led-2024/9300000178840262/', 'image': 'https://media.s-bol.com/m94QnEDmZN8r/Nk58zQm/168x112.jpg', 'description': 'De Samsung UE50CU7020 - 4K LED TV heeft een prachtig UHD Crystal Display scherm waardoor je kan genieten…', 'specifications': ['2024', '50 inch', '50 Hz', 'LED', 'Backlight: Edge-lit', 'Smart TV', 'Tizen'], 'rating_text': 'klantbeoordeling: 4,1 van de 5 sterren', 'rating_count': 112, 'price': 419.0}, {'id': '9300000153310202', 'title': 'Philips 55PUS8118/12 - 55 inch - 4K LED - 2023 - Buitenlands model', 'url': 'https://www.bol.com/nl/nl/p/philips-55pus8118-12-55-inch-4k-led-2023-europees-model/9300000153310202/', 'image': 'https://media.s-bol.com/qrvvJkJWv0Lk/XZgNjo/168x97.jpg', 'description': \"Ervaar de ultieme kijkervaring met Ambilight tv's. Het 4K LED-beeld met Dolby Vision en Dolby Atmos zorgen…\", 'specifications': ['2023', '55 inch', '50 Hz', 'LED', 'Backlight: Direct-led', 'Smart TV', 'Basis Platform'], 'rating_text': 'klantbeoordeling: 4,0 van de 5 sterren', 'rating_count': 21, 'price': 499.0}, {'id': '9300000126413965', 'title': 'BLUETECH - LED TV - 32\" (80cm) - HD - DVB-T/C/T2 - 2x HDMI - 2x USB - PVR - VGA', 'url': 'https://www.bol.com/nl/nl/p/bluetech-led-tv-32-hd-dvb-t-c-t2-2x-hdmi-2x-usb-pvr-vga/9300000126413965/', 'image': 'https://media.s-bol.com/L1D5W5xgk0jX/yMZ4gz/168x110.jpg', 'description': 'De 32\" (80cm) HD LED TV van Bluetech met zijn slanke en elegante design biedt u een helder beeld en levendige…', 'specifications': ['2021', '32 inch', '50 Hz', 'LED', 'Backlight: Direct-led', 'Geen Smart TV'], 'rating_text': 'klantbeoordeling: 5,0 van de 5 sterren', 'rating_count': 7, 'price': 119.99}, {'id': '9300000150567767', 'title': 'LG C3 OLED55C35LA - 55 inch - 4K OLED evo - 2023', 'url': 'https://www.bol.com/nl/nl/p/lg-oled55c35la-55-inch-oled-evo-4k-ultra-hd-2023/9300000150567767/', 'image': 'https://media.s-bol.com/kV2QKOwKE1qX/yELR4g/168x104.jpg', 'description': 'De LG C3 OLED televisie maakt gebruik van een OLED evo beeldscherm. Dit zorgt samen met de Brightness…', 'specifications': ['2023', '55 inch', '100 Hz', 'OLED evo', 'Backlight: Self-emitting', 'Smart TV', 'webOS'], 'rating_text': 'klantbeoordeling: 4,6 van de 5 sterren', 'rating_count': 9, 'price': 1177.0}, {'id': '9300000151145175', 'title': 'Hisense 55A7KQ - 55 inch - 4 QLED - 2024 - Buitenlands model', 'url': 'https://www.bol.com/nl/nl/p/smart-tv-hisense-55a7kq-55-4k-ultra-hd-qled-wi-fi-55-4k-ultra-hd-qled/9300000151145175/', 'image': 'https://media.s-bol.com/NnrnE0v6lw9m/kEJVnY/168x105.jpg', 'description': \"If you're passionate about IT and electronics, like being up to date on technology and don't miss even…\", 'specifications': ['2023', '55 inch', '50 Hz', 'QLED', 'Backlight: Edge-lit', 'Smart TV', 'VIDAA U'], 'rating_text': None, 'rating_count': None, 'price': 419.0}, {'id': '9300000161164584', 'title': 'Samsung UE75CU7190 - 75 inch - 4K LED - 2023', 'url': 'https://www.bol.com/nl/nl/p/samsung-ue75cu7190-75-inch-4k-led-2023/9300000161164584/', 'image': 'https://media.s-bol.com/zwr1xDRP8OBy/zp9qv8q/168x107.jpg', 'description': 'De Samsung UE75CU7190 - 4K LED TV heeft een prachtig UHD Crystal Display scherm waardoor je kan genieten…', 'specifications': ['2023', '75 inch', '50 Hz', 'LED', 'Backlight: Edge-lit', 'Smart TV', 'Tizen'], 'rating_text': 'klantbeoordeling: 4,1 van de 5 sterren', 'rating_count': 112, 'price': 845.0}, {'id': '9300000132764430', 'title': 'TV Beugel – Muurbeugel TV voor 32 t/m 70 Inch – Full Motion Draai- en Kantelbaar – TV Muurbeugel voor TV tot 50KG – Zwart – Douxe DTS-02', 'url': 'https://www.bol.com/nl/nl/p/tv-beugel-muurbeugel-tv-voor-32-t-m-70-inch-full-motion-draai-en-kantelbaar-tv-muurbeugel-voor-tv-tot-50kg-zwart-douxe-dts-02/9300000132764430/', 'image': 'https://media.s-bol.com/BpmvAvjZz0jx/OK4kPp/168x141.jpg', 'description': 'Wil jij graag een strakke design tv-hoek? Of misschien heeft jouw TV helemaal geen ondersteun? Douxe…', 'specifications': ['Type beugel: Alleen kantelbaar'], 'rating_text': 'klantbeoordeling: 4,5 van de 5 sterren', 'rating_count': 115, 'price': 39.99}, {'id': '9300000177927247', 'title': \"Medion P14057 (MD 30019) Smart TV - 100,3 cm (40'') Full HD-scherm HDR - PVR ready - Bluetooth - Netflix - Amazon Prime Video\", 'url': 'https://www.bol.com/nl/nl/p/medion-p14057-smart-tv-100-3-cm-full-hd-scherm-hdr-pvr-ready-bluetooth-netflix-amazon-prime-video/9300000177927247/', 'image': 'https://media.s-bol.com/ZnxAAwrMEp45/1wGE2l3/168x108.jpg', 'description': 'De hele wereld van modern tv-entertainment Op een beeldschermdiagonaal van 40 inch (100,3 centimeter)…', 'specifications': ['2022', '40 inch', '50 Hz', 'LCD', 'Backlight: Edge-lit', 'Smart TV'], 'rating_text': 'klantbeoordeling: 3,0 van de 5 sterren', 'rating_count': 2, 'price': 259.99}]}\n"
     ]
    }
   ],
   "source": [
    "import os\n",
    "import requests\n",
    "import pandas as pd\n",
    "from dotenv import load_dotenv\n",
    "from datetime import datetime\n",
    "\n",
    "# Carregar variáveis de ambiente do arquivo .env\n",
    "load_dotenv()\n",
    "\n",
    "# Obter a chave da API a partir das variáveis de ambiente\n",
    "rapidapi_key = os.getenv(\"RAPIDAPI_KEY\")\n",
    "\n",
    "# Definir a URL da API\n",
    "url = \"https://bol-com-scraper-api.p.rapidapi.com/search\"\n",
    "\n",
    "querystring = {\"token\":\"KWE9HNetKA\",\"keyword\":\"tv\"}\n",
    "\n",
    "# Definir os cabeçalhos da solicitação\n",
    "headers = {\n",
    "\t\"x-rapidapi-key\": rapidapi_key,\n",
    "\t\"x-rapidapi-host\": \"bol-com-scraper-api.p.rapidapi.com\"\n",
    "}\n",
    "\n",
    "response = requests.get(url, headers=headers, params=querystring)\n",
    "\n",
    "print(response.json())\n",
    "\n"
   ]
  },
  {
   "cell_type": "code",
   "execution_count": 2,
   "metadata": {},
   "outputs": [
    {
     "name": "stderr",
     "output_type": "stream",
     "text": [
      "2024-08-12 16:16:23,817 - INFO - Dados processados para a keyword: Draadloze-hoofdtelefoon\n",
      "2024-08-12 16:16:31,145 - INFO - Dados processados para a keyword: Apple-iPhone\n",
      "2024-08-12 16:16:34,413 - INFO - Dados processados para a keyword: Army-Painter\n",
      "2024-08-12 16:16:35,448 - INFO - Arquivo XLSX final salvo como: c:\\Users\\ThiagoBizacha\\Desktop\\Projeto_Automacao_Coleta_Dados\\output\\bol_com_results\\All_Keywords_Bol_com_2024-08-12.xlsx\n"
     ]
    }
   ],
   "source": [
    "import os\n",
    "import requests\n",
    "import pandas as pd\n",
    "from dotenv import load_dotenv\n",
    "from datetime import datetime\n",
    "import logging\n",
    "import time\n",
    "\n",
    "# Configurar o logging\n",
    "logging.basicConfig(\n",
    "    level=logging.INFO,\n",
    "    format='%(asctime)s - %(levelname)s - %(message)s',\n",
    "    handlers=[\n",
    "        logging.FileHandler(\"bol_com_data.log\"),\n",
    "        logging.StreamHandler()\n",
    "    ]\n",
    ")\n",
    "\n",
    "# Carregar variáveis de ambiente do arquivo .env\n",
    "load_dotenv()\n",
    "\n",
    "# Obter a chave da API a partir das variáveis de ambiente\n",
    "rapidapi_key = os.getenv(\"RAPIDAPI_KEY\")\n",
    "\n",
    "# Definir a URL da API\n",
    "url = \"https://bol-com-scraper-api.p.rapidapi.com/search\"\n",
    "\n",
    "# Lista de palavras-chave\n",
    "keywords = [\"Draadloze-hoofdtelefoon\", \"Apple-iPhone\", \"Army-Painter\"]\n",
    "\n",
    "# Definir os cabeçalhos da solicitação\n",
    "headers = {\n",
    "    \"x-rapidapi-key\": rapidapi_key,\n",
    "    \"x-rapidapi-host\": \"bol-com-scraper-api.p.rapidapi.com\"\n",
    "}\n",
    "\n",
    "# Inicializar lista para armazenar DataFrames\n",
    "all_dataframes = []\n",
    "\n",
    "# Função para processar cada keyword\n",
    "def process_keyword(keyword):\n",
    "    querystring = {\"token\": \"KWE9HNetKA\", \"keyword\": keyword}\n",
    "    \n",
    "    try:\n",
    "        # Fazer a solicitação à API\n",
    "        response = requests.get(url, headers=headers, params=querystring)\n",
    "        response.raise_for_status()  # Levantar exceção para códigos de erro HTTP\n",
    "\n",
    "        data = response.json()\n",
    "\n",
    "        # Verificar se 'data' está presente na resposta JSON\n",
    "        if 'data' in data and data['data']:\n",
    "            # Normalizar os dados JSON e converter para DataFrame\n",
    "            df = pd.json_normalize(data['data'])\n",
    "            \n",
    "            # Extrair a data atual\n",
    "            today = datetime.today().strftime('%Y-%m-%d')\n",
    "            \n",
    "            # Adicionar a coluna \"keyword\" e \"date\"\n",
    "            df.insert(len(df.columns), 'keyword', keyword)\n",
    "            df.insert(len(df.columns), 'date', today)\n",
    "            \n",
    "            # Adicionar DataFrame à lista\n",
    "            all_dataframes.append(df)\n",
    "\n",
    "            logging.info(f\"Dados processados para a keyword: {keyword}\")\n",
    "        else:\n",
    "            logging.warning(f\"Nenhum dado encontrado para a keyword: {keyword}\")\n",
    "\n",
    "    except requests.exceptions.HTTPError as http_err:\n",
    "        logging.error(f\"HTTP error ao processar a keyword {keyword}: {http_err}\")\n",
    "    except Exception as err:\n",
    "        logging.error(f\"Erro ao processar a keyword {keyword}: {err}\")\n",
    "\n",
    "# Processar cada keyword na lista\n",
    "for keyword in keywords:\n",
    "    process_keyword(keyword)\n",
    "    time.sleep(1)  # Esperar 1 segundo entre as solicitações para melhorar o desempenho\n",
    "\n",
    "# Concatenar todos os DataFrames em um único DataFrame\n",
    "if all_dataframes:\n",
    "    final_df = pd.concat(all_dataframes, ignore_index=True)\n",
    "\n",
    "    # Definir o nome do arquivo XLSX final\n",
    "    final_file_name = f\"All_Keywords_Bol_com_{datetime.today().strftime('%Y-%m-%d')}.xlsx\"\n",
    "    final_file_path = os.path.join(os.getcwd(), 'output', 'bol_com_results', final_file_name)\n",
    "\n",
    "    # Criar o diretório de salvamento se não existir\n",
    "    os.makedirs(os.path.dirname(final_file_path), exist_ok=True)\n",
    "\n",
    "    # Salvar o DataFrame final em um arquivo Excel\n",
    "    final_df.to_excel(final_file_path, index=False)\n",
    "\n",
    "    logging.info(f\"Arquivo XLSX final salvo como: {final_file_path}\")\n",
    "else:\n",
    "    logging.warning(\"Nenhum dado foi processado para salvar no arquivo final.\")\n"
   ]
  },
  {
   "cell_type": "markdown",
   "metadata": {},
   "source": []
  }
 ],
 "metadata": {
  "kernelspec": {
   "display_name": "base",
   "language": "python",
   "name": "python3"
  },
  "language_info": {
   "codemirror_mode": {
    "name": "ipython",
    "version": 3
   },
   "file_extension": ".py",
   "mimetype": "text/x-python",
   "name": "python",
   "nbconvert_exporter": "python",
   "pygments_lexer": "ipython3",
   "version": "3.12.4"
  }
 },
 "nbformat": 4,
 "nbformat_minor": 2
}
